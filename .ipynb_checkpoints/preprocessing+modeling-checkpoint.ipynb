{
 "cells": [
  {
   "cell_type": "code",
   "execution_count": 1,
   "id": "46686b2d",
   "metadata": {},
   "outputs": [],
   "source": [
    "import numpy as np\n",
    "import pandas as pd\n",
    "import matplotlib.pyplot as plt\n",
    "import seaborn as sns\n",
    "from sklearn.model_selection import train_test_split\n",
    "from sklearn.metrics import accuracy_score\n",
    "from sklearn.feature_extraction.text import TfidfTransformer\n",
    "from sklearn.linear_model import LogisticRegression\n",
    "from sklearn.feature_extraction.text import CountVectorizer, TfidfVectorizer, HashingVectorizer\n",
    "from sklearn.metrics import accuracy_score, precision_score, recall_score, confusion_matrix\n",
    "from sklearn.metrics import plot_confusion_matrix\n",
    "import multiprocessing\n",
    "from sklearn.model_selection import cross_val_score\n",
    "from sklearn.ensemble import RandomForestClassifier\n",
    "from sklearn.naive_bayes import MultinomialNB\n",
    "import pickle\n",
    "\n",
    "from gensim.models import Word2Vec\n",
    "\n",
    "\n",
    "\n",
    "from sklearn.metrics import classification_report\n",
    "import gensim"
   ]
  },
  {
   "cell_type": "code",
   "execution_count": 2,
   "id": "51bfba75",
   "metadata": {},
   "outputs": [],
   "source": [
    "df= pd.read_csv('./fakevstrue_cleaned.csv')"
   ]
  },
  {
   "cell_type": "markdown",
   "id": "9add2d4e",
   "metadata": {},
   "source": [
    "+ vectorizing-> convert into numbers"
   ]
  },
  {
   "cell_type": "code",
   "execution_count": 3,
   "id": "a8ceb2f9",
   "metadata": {},
   "outputs": [
    {
     "data": {
      "text/html": [
       "<div>\n",
       "<style scoped>\n",
       "    .dataframe tbody tr th:only-of-type {\n",
       "        vertical-align: middle;\n",
       "    }\n",
       "\n",
       "    .dataframe tbody tr th {\n",
       "        vertical-align: top;\n",
       "    }\n",
       "\n",
       "    .dataframe thead th {\n",
       "        text-align: right;\n",
       "    }\n",
       "</style>\n",
       "<table border=\"1\" class=\"dataframe\">\n",
       "  <thead>\n",
       "    <tr style=\"text-align: right;\">\n",
       "      <th></th>\n",
       "      <th>Unnamed: 0</th>\n",
       "      <th>title</th>\n",
       "      <th>text</th>\n",
       "      <th>subject</th>\n",
       "      <th>date</th>\n",
       "      <th>status</th>\n",
       "      <th>all_cleaned</th>\n",
       "      <th>tokenized</th>\n",
       "      <th>lemmatized</th>\n",
       "      <th>year</th>\n",
       "      <th>lemmatized_joined</th>\n",
       "    </tr>\n",
       "  </thead>\n",
       "  <tbody>\n",
       "    <tr>\n",
       "      <th>0</th>\n",
       "      <td>0</td>\n",
       "      <td>as u s budget fight looms republicans flip the...</td>\n",
       "      <td>washington reuters the head of a conservative ...</td>\n",
       "      <td>politics</td>\n",
       "      <td>2017-12-31</td>\n",
       "      <td>1</td>\n",
       "      <td>as u s budget fight looms republicans flip the...</td>\n",
       "      <td>['budget', 'fight', 'looms', 'republicans', 'f...</td>\n",
       "      <td>['budget', 'fight', 'loom', 'republican', 'fli...</td>\n",
       "      <td>2017</td>\n",
       "      <td>budget fight loom republican flip fiscal scrip...</td>\n",
       "    </tr>\n",
       "    <tr>\n",
       "      <th>1</th>\n",
       "      <td>1</td>\n",
       "      <td>u s military to accept transgender recruits on...</td>\n",
       "      <td>washington reuters transgender people will be ...</td>\n",
       "      <td>politics</td>\n",
       "      <td>2017-12-29</td>\n",
       "      <td>1</td>\n",
       "      <td>u s military to accept transgender recruits on...</td>\n",
       "      <td>['military', 'accept', 'transgender', 'recruit...</td>\n",
       "      <td>['military', 'accept', 'transgender', 'recruit...</td>\n",
       "      <td>2017</td>\n",
       "      <td>military accept transgender recruit monday pen...</td>\n",
       "    </tr>\n",
       "    <tr>\n",
       "      <th>2</th>\n",
       "      <td>2</td>\n",
       "      <td>senior u s republican senator let mr mueller d...</td>\n",
       "      <td>washington reuters the special counsel investi...</td>\n",
       "      <td>politics</td>\n",
       "      <td>2017-12-31</td>\n",
       "      <td>1</td>\n",
       "      <td>senior u s republican senator let mr mueller d...</td>\n",
       "      <td>['senior', 'republican', 'senator', 'let', 'mr...</td>\n",
       "      <td>['senior', 'republican', 'senator', 'let', 'mr...</td>\n",
       "      <td>2017</td>\n",
       "      <td>senior republican senator let mr mueller job w...</td>\n",
       "    </tr>\n",
       "    <tr>\n",
       "      <th>3</th>\n",
       "      <td>3</td>\n",
       "      <td>fbi russia probe helped by australian diplomat...</td>\n",
       "      <td>washington reuters trump campaign adviser geor...</td>\n",
       "      <td>politics</td>\n",
       "      <td>2017-12-30</td>\n",
       "      <td>1</td>\n",
       "      <td>fbi russia probe helped by australian diplomat...</td>\n",
       "      <td>['fbi', 'russia', 'probe', 'helped', 'australi...</td>\n",
       "      <td>['fbi', 'russia', 'probe', 'helped', 'australi...</td>\n",
       "      <td>2017</td>\n",
       "      <td>fbi russia probe helped australian diplomat ti...</td>\n",
       "    </tr>\n",
       "    <tr>\n",
       "      <th>4</th>\n",
       "      <td>4</td>\n",
       "      <td>trump wants postal service to charge much more...</td>\n",
       "      <td>seattle washington reuters president donald tr...</td>\n",
       "      <td>politics</td>\n",
       "      <td>2017-12-29</td>\n",
       "      <td>1</td>\n",
       "      <td>trump wants postal service to charge much more...</td>\n",
       "      <td>['trump', 'wants', 'postal', 'service', 'charg...</td>\n",
       "      <td>['trump', 'want', 'postal', 'service', 'charge...</td>\n",
       "      <td>2017</td>\n",
       "      <td>trump want postal service charge amazon shipme...</td>\n",
       "    </tr>\n",
       "    <tr>\n",
       "      <th>5</th>\n",
       "      <td>5</td>\n",
       "      <td>white house congress prepare for talks on spen...</td>\n",
       "      <td>west palm beach fla washington reuters the whi...</td>\n",
       "      <td>politics</td>\n",
       "      <td>2017-12-29</td>\n",
       "      <td>1</td>\n",
       "      <td>white house congress prepare for talks on spen...</td>\n",
       "      <td>['white', 'house', 'congress', 'prepare', 'tal...</td>\n",
       "      <td>['white', 'house', 'congress', 'prepare', 'tal...</td>\n",
       "      <td>2017</td>\n",
       "      <td>white house congress prepare talk spending imm...</td>\n",
       "    </tr>\n",
       "    <tr>\n",
       "      <th>6</th>\n",
       "      <td>6</td>\n",
       "      <td>trump says russia probe will be fair but timel...</td>\n",
       "      <td>west palm beach fla reuters president donald t...</td>\n",
       "      <td>politics</td>\n",
       "      <td>2017-12-29</td>\n",
       "      <td>1</td>\n",
       "      <td>trump says russia probe will be fair but timel...</td>\n",
       "      <td>['trump', 'says', 'russia', 'probe', 'fair', '...</td>\n",
       "      <td>['trump', 'say', 'russia', 'probe', 'fair', 't...</td>\n",
       "      <td>2017</td>\n",
       "      <td>trump say russia probe fair timeline unclear n...</td>\n",
       "    </tr>\n",
       "    <tr>\n",
       "      <th>7</th>\n",
       "      <td>7</td>\n",
       "      <td>factbox trump on twitter dec  approval rating ...</td>\n",
       "      <td>the following statements were posted to the ve...</td>\n",
       "      <td>politics</td>\n",
       "      <td>2017-12-29</td>\n",
       "      <td>1</td>\n",
       "      <td>factbox trump on twitter dec  approval rating ...</td>\n",
       "      <td>['factbox', 'trump', 'twitter', 'dec', 'approv...</td>\n",
       "      <td>['factbox', 'trump', 'twitter', 'dec', 'approv...</td>\n",
       "      <td>2017</td>\n",
       "      <td>factbox trump twitter dec approval rating amaz...</td>\n",
       "    </tr>\n",
       "    <tr>\n",
       "      <th>8</th>\n",
       "      <td>8</td>\n",
       "      <td>trump on twitter dec  global warming</td>\n",
       "      <td>the following statements were posted to the ve...</td>\n",
       "      <td>politics</td>\n",
       "      <td>2017-12-29</td>\n",
       "      <td>1</td>\n",
       "      <td>trump on twitter dec  global warming the follo...</td>\n",
       "      <td>['trump', 'twitter', 'dec', 'global', 'warming...</td>\n",
       "      <td>['trump', 'twitter', 'dec', 'global', 'warming...</td>\n",
       "      <td>2017</td>\n",
       "      <td>trump twitter dec global warming following sta...</td>\n",
       "    </tr>\n",
       "    <tr>\n",
       "      <th>9</th>\n",
       "      <td>9</td>\n",
       "      <td>alabama official to certify senator elect jone...</td>\n",
       "      <td>washington reuters alabama secretary of state ...</td>\n",
       "      <td>politics</td>\n",
       "      <td>2017-12-28</td>\n",
       "      <td>1</td>\n",
       "      <td>alabama official to certify senator elect jone...</td>\n",
       "      <td>['alabama', 'official', 'certify', 'senator', ...</td>\n",
       "      <td>['alabama', 'official', 'certify', 'senator', ...</td>\n",
       "      <td>2017</td>\n",
       "      <td>alabama official certify senator elect jones t...</td>\n",
       "    </tr>\n",
       "  </tbody>\n",
       "</table>\n",
       "</div>"
      ],
      "text/plain": [
       "   Unnamed: 0                                              title  \\\n",
       "0           0  as u s budget fight looms republicans flip the...   \n",
       "1           1  u s military to accept transgender recruits on...   \n",
       "2           2  senior u s republican senator let mr mueller d...   \n",
       "3           3  fbi russia probe helped by australian diplomat...   \n",
       "4           4  trump wants postal service to charge much more...   \n",
       "5           5  white house congress prepare for talks on spen...   \n",
       "6           6  trump says russia probe will be fair but timel...   \n",
       "7           7  factbox trump on twitter dec  approval rating ...   \n",
       "8           8               trump on twitter dec  global warming   \n",
       "9           9  alabama official to certify senator elect jone...   \n",
       "\n",
       "                                                text   subject        date  \\\n",
       "0  washington reuters the head of a conservative ...  politics  2017-12-31   \n",
       "1  washington reuters transgender people will be ...  politics  2017-12-29   \n",
       "2  washington reuters the special counsel investi...  politics  2017-12-31   \n",
       "3  washington reuters trump campaign adviser geor...  politics  2017-12-30   \n",
       "4  seattle washington reuters president donald tr...  politics  2017-12-29   \n",
       "5  west palm beach fla washington reuters the whi...  politics  2017-12-29   \n",
       "6  west palm beach fla reuters president donald t...  politics  2017-12-29   \n",
       "7  the following statements were posted to the ve...  politics  2017-12-29   \n",
       "8  the following statements were posted to the ve...  politics  2017-12-29   \n",
       "9  washington reuters alabama secretary of state ...  politics  2017-12-28   \n",
       "\n",
       "   status                                        all_cleaned  \\\n",
       "0       1  as u s budget fight looms republicans flip the...   \n",
       "1       1  u s military to accept transgender recruits on...   \n",
       "2       1  senior u s republican senator let mr mueller d...   \n",
       "3       1  fbi russia probe helped by australian diplomat...   \n",
       "4       1  trump wants postal service to charge much more...   \n",
       "5       1  white house congress prepare for talks on spen...   \n",
       "6       1  trump says russia probe will be fair but timel...   \n",
       "7       1  factbox trump on twitter dec  approval rating ...   \n",
       "8       1  trump on twitter dec  global warming the follo...   \n",
       "9       1  alabama official to certify senator elect jone...   \n",
       "\n",
       "                                           tokenized  \\\n",
       "0  ['budget', 'fight', 'looms', 'republicans', 'f...   \n",
       "1  ['military', 'accept', 'transgender', 'recruit...   \n",
       "2  ['senior', 'republican', 'senator', 'let', 'mr...   \n",
       "3  ['fbi', 'russia', 'probe', 'helped', 'australi...   \n",
       "4  ['trump', 'wants', 'postal', 'service', 'charg...   \n",
       "5  ['white', 'house', 'congress', 'prepare', 'tal...   \n",
       "6  ['trump', 'says', 'russia', 'probe', 'fair', '...   \n",
       "7  ['factbox', 'trump', 'twitter', 'dec', 'approv...   \n",
       "8  ['trump', 'twitter', 'dec', 'global', 'warming...   \n",
       "9  ['alabama', 'official', 'certify', 'senator', ...   \n",
       "\n",
       "                                          lemmatized  year  \\\n",
       "0  ['budget', 'fight', 'loom', 'republican', 'fli...  2017   \n",
       "1  ['military', 'accept', 'transgender', 'recruit...  2017   \n",
       "2  ['senior', 'republican', 'senator', 'let', 'mr...  2017   \n",
       "3  ['fbi', 'russia', 'probe', 'helped', 'australi...  2017   \n",
       "4  ['trump', 'want', 'postal', 'service', 'charge...  2017   \n",
       "5  ['white', 'house', 'congress', 'prepare', 'tal...  2017   \n",
       "6  ['trump', 'say', 'russia', 'probe', 'fair', 't...  2017   \n",
       "7  ['factbox', 'trump', 'twitter', 'dec', 'approv...  2017   \n",
       "8  ['trump', 'twitter', 'dec', 'global', 'warming...  2017   \n",
       "9  ['alabama', 'official', 'certify', 'senator', ...  2017   \n",
       "\n",
       "                                   lemmatized_joined  \n",
       "0  budget fight loom republican flip fiscal scrip...  \n",
       "1  military accept transgender recruit monday pen...  \n",
       "2  senior republican senator let mr mueller job w...  \n",
       "3  fbi russia probe helped australian diplomat ti...  \n",
       "4  trump want postal service charge amazon shipme...  \n",
       "5  white house congress prepare talk spending imm...  \n",
       "6  trump say russia probe fair timeline unclear n...  \n",
       "7  factbox trump twitter dec approval rating amaz...  \n",
       "8  trump twitter dec global warming following sta...  \n",
       "9  alabama official certify senator elect jones t...  "
      ]
     },
     "execution_count": 3,
     "metadata": {},
     "output_type": "execute_result"
    }
   ],
   "source": [
    "df.head(10)"
   ]
  },
  {
   "cell_type": "code",
   "execution_count": 4,
   "id": "d1d04741",
   "metadata": {},
   "outputs": [],
   "source": [
    "df = df.drop(['Unnamed: 0'], axis=1)"
   ]
  },
  {
   "cell_type": "markdown",
   "id": "a0397c39",
   "metadata": {},
   "source": [
    "## Vectorizing \n",
    "\n",
    "+ Bag of words\n",
    "\n",
    "+ TFIDF: Term Frequency — Inverse Document Frequency (TFIDF)\n",
    "\n",
    "+ Word2Vec\n"
   ]
  },
  {
   "cell_type": "code",
   "execution_count": 17,
   "id": "79e1650c",
   "metadata": {},
   "outputs": [],
   "source": [
    "X= df[\"lemmatized_joined\"] \n",
    "y= df[\"status\"]"
   ]
  },
  {
   "cell_type": "code",
   "execution_count": null,
   "id": "fc4113be",
   "metadata": {},
   "outputs": [],
   "source": [
    "#Xtok= df[\"tokenized\"] #quickly checked if there is a big difference between token and lemm \n",
    "#ytok= df[\"status\"]"
   ]
  },
  {
   "cell_type": "code",
   "execution_count": null,
   "id": "b0f0e9d7",
   "metadata": {},
   "outputs": [],
   "source": [
    "#Xscl= df[\"lemmatized_joined\"] #quickly checked if there is a big difference between token and lemm \n",
    "#yscl= df[\"status\"]"
   ]
  },
  {
   "cell_type": "code",
   "execution_count": null,
   "id": "efabdb5b",
   "metadata": {},
   "outputs": [],
   "source": [
    "#Xscl = vectorizer.fit_transform(df[\"lemmatized_joined\"]) \n",
    "#Xscl= vectorizer.fit_transform(df[\"lemmatized_joined\"]) \n"
   ]
  },
  {
   "cell_type": "code",
   "execution_count": null,
   "id": "2b0c6f1a",
   "metadata": {},
   "outputs": [],
   "source": [
    "# creating bag of words model - > checked the difference "
   ]
  },
  {
   "cell_type": "code",
   "execution_count": null,
   "id": "f73b3863",
   "metadata": {},
   "outputs": [],
   "source": [
    "#from sklearn.feature_extraction.text import CountVectorizer #create bag of words\n",
    "\n",
    "#bow = CountVectorizer().fit(df[\"lemmatized_joined\"])\n",
    "\n",
    "#vec = bow.transform(df[\"lemmatized_joined\"])"
   ]
  },
  {
   "cell_type": "code",
   "execution_count": null,
   "id": "ee408512",
   "metadata": {},
   "outputs": [],
   "source": [
    "#from sklearn.feature_extraction.text import TfidfTransformer\n",
    "\n",
    "#tfidf_trans = TfidfTransformer().fit(vec)\n",
    "#Xbow = tfidf_trans.transform(vec)"
   ]
  },
  {
   "cell_type": "markdown",
   "id": "6c3aec23",
   "metadata": {},
   "source": [
    "## tfidf"
   ]
  },
  {
   "cell_type": "code",
   "execution_count": 19,
   "id": "7f4e8c8d",
   "metadata": {},
   "outputs": [],
   "source": [
    "vectorizer = TfidfVectorizer() #max_features? decided by testing around \n",
    "\n",
    "# The higher the score, the more important that word is.\n",
    "#weight will be less"
   ]
  },
  {
   "cell_type": "code",
   "execution_count": 20,
   "id": "851a5858",
   "metadata": {},
   "outputs": [],
   "source": [
    "X = vectorizer.fit_transform(df[\"lemmatized_joined\"]) "
   ]
  },
  {
   "cell_type": "code",
   "execution_count": null,
   "id": "cc32a480",
   "metadata": {},
   "outputs": [],
   "source": [
    "#X = vectorizer.fit_transform(df[\"lemmatized_joined\"]) "
   ]
  },
  {
   "cell_type": "code",
   "execution_count": 21,
   "id": "029f472b",
   "metadata": {},
   "outputs": [
    {
     "data": {
      "text/plain": [
       "104619"
      ]
     },
     "execution_count": 21,
     "metadata": {},
     "output_type": "execute_result"
    }
   ],
   "source": [
    "len(vectorizer.get_feature_names())"
   ]
  },
  {
   "cell_type": "code",
   "execution_count": 22,
   "id": "d1b4685e",
   "metadata": {},
   "outputs": [
    {
     "data": {
      "text/html": [
       "<div>\n",
       "<style scoped>\n",
       "    .dataframe tbody tr th:only-of-type {\n",
       "        vertical-align: middle;\n",
       "    }\n",
       "\n",
       "    .dataframe tbody tr th {\n",
       "        vertical-align: top;\n",
       "    }\n",
       "\n",
       "    .dataframe thead th {\n",
       "        text-align: right;\n",
       "    }\n",
       "</style>\n",
       "<table border=\"1\" class=\"dataframe\">\n",
       "  <thead>\n",
       "    <tr style=\"text-align: right;\">\n",
       "      <th></th>\n",
       "      <th>0</th>\n",
       "      <th>1</th>\n",
       "      <th>2</th>\n",
       "      <th>3</th>\n",
       "      <th>4</th>\n",
       "      <th>5</th>\n",
       "      <th>6</th>\n",
       "      <th>7</th>\n",
       "      <th>8</th>\n",
       "      <th>9</th>\n",
       "      <th>...</th>\n",
       "      <th>104609</th>\n",
       "      <th>104610</th>\n",
       "      <th>104611</th>\n",
       "      <th>104612</th>\n",
       "      <th>104613</th>\n",
       "      <th>104614</th>\n",
       "      <th>104615</th>\n",
       "      <th>104616</th>\n",
       "      <th>104617</th>\n",
       "      <th>104618</th>\n",
       "    </tr>\n",
       "  </thead>\n",
       "  <tbody>\n",
       "    <tr>\n",
       "      <th>0</th>\n",
       "      <td>0.0</td>\n",
       "      <td>0.0</td>\n",
       "      <td>0.0</td>\n",
       "      <td>0.0</td>\n",
       "      <td>0.0</td>\n",
       "      <td>0.0</td>\n",
       "      <td>0.0</td>\n",
       "      <td>0.0</td>\n",
       "      <td>0.0</td>\n",
       "      <td>0.0</td>\n",
       "      <td>...</td>\n",
       "      <td>0.0</td>\n",
       "      <td>0.0</td>\n",
       "      <td>0.0</td>\n",
       "      <td>0.0</td>\n",
       "      <td>0.0</td>\n",
       "      <td>0.0</td>\n",
       "      <td>0.0</td>\n",
       "      <td>0.0</td>\n",
       "      <td>0.0</td>\n",
       "      <td>0.0</td>\n",
       "    </tr>\n",
       "    <tr>\n",
       "      <th>1</th>\n",
       "      <td>0.0</td>\n",
       "      <td>0.0</td>\n",
       "      <td>0.0</td>\n",
       "      <td>0.0</td>\n",
       "      <td>0.0</td>\n",
       "      <td>0.0</td>\n",
       "      <td>0.0</td>\n",
       "      <td>0.0</td>\n",
       "      <td>0.0</td>\n",
       "      <td>0.0</td>\n",
       "      <td>...</td>\n",
       "      <td>0.0</td>\n",
       "      <td>0.0</td>\n",
       "      <td>0.0</td>\n",
       "      <td>0.0</td>\n",
       "      <td>0.0</td>\n",
       "      <td>0.0</td>\n",
       "      <td>0.0</td>\n",
       "      <td>0.0</td>\n",
       "      <td>0.0</td>\n",
       "      <td>0.0</td>\n",
       "    </tr>\n",
       "    <tr>\n",
       "      <th>2</th>\n",
       "      <td>0.0</td>\n",
       "      <td>0.0</td>\n",
       "      <td>0.0</td>\n",
       "      <td>0.0</td>\n",
       "      <td>0.0</td>\n",
       "      <td>0.0</td>\n",
       "      <td>0.0</td>\n",
       "      <td>0.0</td>\n",
       "      <td>0.0</td>\n",
       "      <td>0.0</td>\n",
       "      <td>...</td>\n",
       "      <td>0.0</td>\n",
       "      <td>0.0</td>\n",
       "      <td>0.0</td>\n",
       "      <td>0.0</td>\n",
       "      <td>0.0</td>\n",
       "      <td>0.0</td>\n",
       "      <td>0.0</td>\n",
       "      <td>0.0</td>\n",
       "      <td>0.0</td>\n",
       "      <td>0.0</td>\n",
       "    </tr>\n",
       "    <tr>\n",
       "      <th>3</th>\n",
       "      <td>0.0</td>\n",
       "      <td>0.0</td>\n",
       "      <td>0.0</td>\n",
       "      <td>0.0</td>\n",
       "      <td>0.0</td>\n",
       "      <td>0.0</td>\n",
       "      <td>0.0</td>\n",
       "      <td>0.0</td>\n",
       "      <td>0.0</td>\n",
       "      <td>0.0</td>\n",
       "      <td>...</td>\n",
       "      <td>0.0</td>\n",
       "      <td>0.0</td>\n",
       "      <td>0.0</td>\n",
       "      <td>0.0</td>\n",
       "      <td>0.0</td>\n",
       "      <td>0.0</td>\n",
       "      <td>0.0</td>\n",
       "      <td>0.0</td>\n",
       "      <td>0.0</td>\n",
       "      <td>0.0</td>\n",
       "    </tr>\n",
       "    <tr>\n",
       "      <th>4</th>\n",
       "      <td>0.0</td>\n",
       "      <td>0.0</td>\n",
       "      <td>0.0</td>\n",
       "      <td>0.0</td>\n",
       "      <td>0.0</td>\n",
       "      <td>0.0</td>\n",
       "      <td>0.0</td>\n",
       "      <td>0.0</td>\n",
       "      <td>0.0</td>\n",
       "      <td>0.0</td>\n",
       "      <td>...</td>\n",
       "      <td>0.0</td>\n",
       "      <td>0.0</td>\n",
       "      <td>0.0</td>\n",
       "      <td>0.0</td>\n",
       "      <td>0.0</td>\n",
       "      <td>0.0</td>\n",
       "      <td>0.0</td>\n",
       "      <td>0.0</td>\n",
       "      <td>0.0</td>\n",
       "      <td>0.0</td>\n",
       "    </tr>\n",
       "    <tr>\n",
       "      <th>...</th>\n",
       "      <td>...</td>\n",
       "      <td>...</td>\n",
       "      <td>...</td>\n",
       "      <td>...</td>\n",
       "      <td>...</td>\n",
       "      <td>...</td>\n",
       "      <td>...</td>\n",
       "      <td>...</td>\n",
       "      <td>...</td>\n",
       "      <td>...</td>\n",
       "      <td>...</td>\n",
       "      <td>...</td>\n",
       "      <td>...</td>\n",
       "      <td>...</td>\n",
       "      <td>...</td>\n",
       "      <td>...</td>\n",
       "      <td>...</td>\n",
       "      <td>...</td>\n",
       "      <td>...</td>\n",
       "      <td>...</td>\n",
       "      <td>...</td>\n",
       "    </tr>\n",
       "    <tr>\n",
       "      <th>44674</th>\n",
       "      <td>0.0</td>\n",
       "      <td>0.0</td>\n",
       "      <td>0.0</td>\n",
       "      <td>0.0</td>\n",
       "      <td>0.0</td>\n",
       "      <td>0.0</td>\n",
       "      <td>0.0</td>\n",
       "      <td>0.0</td>\n",
       "      <td>0.0</td>\n",
       "      <td>0.0</td>\n",
       "      <td>...</td>\n",
       "      <td>0.0</td>\n",
       "      <td>0.0</td>\n",
       "      <td>0.0</td>\n",
       "      <td>0.0</td>\n",
       "      <td>0.0</td>\n",
       "      <td>0.0</td>\n",
       "      <td>0.0</td>\n",
       "      <td>0.0</td>\n",
       "      <td>0.0</td>\n",
       "      <td>0.0</td>\n",
       "    </tr>\n",
       "    <tr>\n",
       "      <th>44675</th>\n",
       "      <td>0.0</td>\n",
       "      <td>0.0</td>\n",
       "      <td>0.0</td>\n",
       "      <td>0.0</td>\n",
       "      <td>0.0</td>\n",
       "      <td>0.0</td>\n",
       "      <td>0.0</td>\n",
       "      <td>0.0</td>\n",
       "      <td>0.0</td>\n",
       "      <td>0.0</td>\n",
       "      <td>...</td>\n",
       "      <td>0.0</td>\n",
       "      <td>0.0</td>\n",
       "      <td>0.0</td>\n",
       "      <td>0.0</td>\n",
       "      <td>0.0</td>\n",
       "      <td>0.0</td>\n",
       "      <td>0.0</td>\n",
       "      <td>0.0</td>\n",
       "      <td>0.0</td>\n",
       "      <td>0.0</td>\n",
       "    </tr>\n",
       "    <tr>\n",
       "      <th>44676</th>\n",
       "      <td>0.0</td>\n",
       "      <td>0.0</td>\n",
       "      <td>0.0</td>\n",
       "      <td>0.0</td>\n",
       "      <td>0.0</td>\n",
       "      <td>0.0</td>\n",
       "      <td>0.0</td>\n",
       "      <td>0.0</td>\n",
       "      <td>0.0</td>\n",
       "      <td>0.0</td>\n",
       "      <td>...</td>\n",
       "      <td>0.0</td>\n",
       "      <td>0.0</td>\n",
       "      <td>0.0</td>\n",
       "      <td>0.0</td>\n",
       "      <td>0.0</td>\n",
       "      <td>0.0</td>\n",
       "      <td>0.0</td>\n",
       "      <td>0.0</td>\n",
       "      <td>0.0</td>\n",
       "      <td>0.0</td>\n",
       "    </tr>\n",
       "    <tr>\n",
       "      <th>44677</th>\n",
       "      <td>0.0</td>\n",
       "      <td>0.0</td>\n",
       "      <td>0.0</td>\n",
       "      <td>0.0</td>\n",
       "      <td>0.0</td>\n",
       "      <td>0.0</td>\n",
       "      <td>0.0</td>\n",
       "      <td>0.0</td>\n",
       "      <td>0.0</td>\n",
       "      <td>0.0</td>\n",
       "      <td>...</td>\n",
       "      <td>0.0</td>\n",
       "      <td>0.0</td>\n",
       "      <td>0.0</td>\n",
       "      <td>0.0</td>\n",
       "      <td>0.0</td>\n",
       "      <td>0.0</td>\n",
       "      <td>0.0</td>\n",
       "      <td>0.0</td>\n",
       "      <td>0.0</td>\n",
       "      <td>0.0</td>\n",
       "    </tr>\n",
       "    <tr>\n",
       "      <th>44678</th>\n",
       "      <td>0.0</td>\n",
       "      <td>0.0</td>\n",
       "      <td>0.0</td>\n",
       "      <td>0.0</td>\n",
       "      <td>0.0</td>\n",
       "      <td>0.0</td>\n",
       "      <td>0.0</td>\n",
       "      <td>0.0</td>\n",
       "      <td>0.0</td>\n",
       "      <td>0.0</td>\n",
       "      <td>...</td>\n",
       "      <td>0.0</td>\n",
       "      <td>0.0</td>\n",
       "      <td>0.0</td>\n",
       "      <td>0.0</td>\n",
       "      <td>0.0</td>\n",
       "      <td>0.0</td>\n",
       "      <td>0.0</td>\n",
       "      <td>0.0</td>\n",
       "      <td>0.0</td>\n",
       "      <td>0.0</td>\n",
       "    </tr>\n",
       "  </tbody>\n",
       "</table>\n",
       "<p>44679 rows × 104619 columns</p>\n",
       "</div>"
      ],
      "text/plain": [
       "       0       1       2       3       4       5       6       7       8       \\\n",
       "0         0.0     0.0     0.0     0.0     0.0     0.0     0.0     0.0     0.0   \n",
       "1         0.0     0.0     0.0     0.0     0.0     0.0     0.0     0.0     0.0   \n",
       "2         0.0     0.0     0.0     0.0     0.0     0.0     0.0     0.0     0.0   \n",
       "3         0.0     0.0     0.0     0.0     0.0     0.0     0.0     0.0     0.0   \n",
       "4         0.0     0.0     0.0     0.0     0.0     0.0     0.0     0.0     0.0   \n",
       "...       ...     ...     ...     ...     ...     ...     ...     ...     ...   \n",
       "44674     0.0     0.0     0.0     0.0     0.0     0.0     0.0     0.0     0.0   \n",
       "44675     0.0     0.0     0.0     0.0     0.0     0.0     0.0     0.0     0.0   \n",
       "44676     0.0     0.0     0.0     0.0     0.0     0.0     0.0     0.0     0.0   \n",
       "44677     0.0     0.0     0.0     0.0     0.0     0.0     0.0     0.0     0.0   \n",
       "44678     0.0     0.0     0.0     0.0     0.0     0.0     0.0     0.0     0.0   \n",
       "\n",
       "       9       ...  104609  104610  104611  104612  104613  104614  104615  \\\n",
       "0         0.0  ...     0.0     0.0     0.0     0.0     0.0     0.0     0.0   \n",
       "1         0.0  ...     0.0     0.0     0.0     0.0     0.0     0.0     0.0   \n",
       "2         0.0  ...     0.0     0.0     0.0     0.0     0.0     0.0     0.0   \n",
       "3         0.0  ...     0.0     0.0     0.0     0.0     0.0     0.0     0.0   \n",
       "4         0.0  ...     0.0     0.0     0.0     0.0     0.0     0.0     0.0   \n",
       "...       ...  ...     ...     ...     ...     ...     ...     ...     ...   \n",
       "44674     0.0  ...     0.0     0.0     0.0     0.0     0.0     0.0     0.0   \n",
       "44675     0.0  ...     0.0     0.0     0.0     0.0     0.0     0.0     0.0   \n",
       "44676     0.0  ...     0.0     0.0     0.0     0.0     0.0     0.0     0.0   \n",
       "44677     0.0  ...     0.0     0.0     0.0     0.0     0.0     0.0     0.0   \n",
       "44678     0.0  ...     0.0     0.0     0.0     0.0     0.0     0.0     0.0   \n",
       "\n",
       "       104616  104617  104618  \n",
       "0         0.0     0.0     0.0  \n",
       "1         0.0     0.0     0.0  \n",
       "2         0.0     0.0     0.0  \n",
       "3         0.0     0.0     0.0  \n",
       "4         0.0     0.0     0.0  \n",
       "...       ...     ...     ...  \n",
       "44674     0.0     0.0     0.0  \n",
       "44675     0.0     0.0     0.0  \n",
       "44676     0.0     0.0     0.0  \n",
       "44677     0.0     0.0     0.0  \n",
       "44678     0.0     0.0     0.0  \n",
       "\n",
       "[44679 rows x 104619 columns]"
      ]
     },
     "execution_count": 22,
     "metadata": {},
     "output_type": "execute_result"
    }
   ],
   "source": [
    "test= pd.DataFrame.sparse.from_spmatrix(X) # sparse matrices just zeros because of the huge amount \n",
    "test"
   ]
  },
  {
   "cell_type": "code",
   "execution_count": null,
   "id": "897b50c5",
   "metadata": {},
   "outputs": [],
   "source": []
  },
  {
   "cell_type": "code",
   "execution_count": 9,
   "id": "3ed994b9",
   "metadata": {},
   "outputs": [
    {
     "name": "stdout",
     "output_type": "stream",
     "text": [
      "0.9696950225361065\n"
     ]
    }
   ],
   "source": [
    "print(X.max())"
   ]
  },
  {
   "cell_type": "code",
   "execution_count": 10,
   "id": "bbf8bad2",
   "metadata": {},
   "outputs": [
    {
     "name": "stdout",
     "output_type": "stream",
     "text": [
      "8.185470307442323e-05\n"
     ]
    }
   ],
   "source": [
    "print(X.mean())"
   ]
  },
  {
   "cell_type": "code",
   "execution_count": null,
   "id": "ddc65a2b",
   "metadata": {},
   "outputs": [],
   "source": [
    "#We have around 104618 words in our vocabulary\n",
    "#, which means that every sentence will be represented as a vector of length 100k. The vector will contain mostly 0s because each sentence contains only a very small subset of our vocabulary\n"
   ]
  },
  {
   "cell_type": "code",
   "execution_count": 11,
   "id": "46c014fc",
   "metadata": {},
   "outputs": [
    {
     "name": "stdout",
     "output_type": "stream",
     "text": [
      "(44679, 104619)\n"
     ]
    }
   ],
   "source": [
    "print(X.shape)"
   ]
  },
  {
   "cell_type": "code",
   "execution_count": null,
   "id": "5af8a462",
   "metadata": {},
   "outputs": [],
   "source": [
    "df.lemmatized_joined"
   ]
  },
  {
   "cell_type": "markdown",
   "id": "0e76bd08",
   "metadata": {},
   "source": [
    "## Word2Vec"
   ]
  },
  {
   "cell_type": "code",
   "execution_count": null,
   "id": "90c30229",
   "metadata": {},
   "outputs": [],
   "source": [
    "#eyedVectors is a package present inside genism and ‘GoogleNews-vectors-negative300.bin’\n",
    "#is a google dataset, which is used here for training\n",
    "\n",
    "#lemmatized-> just words here \n",
    "\n",
    "#size default 100\n",
    "#min count of words default is 5\n",
    "# number of partitioins during training default i 3\n",
    "#default algorithm is cbow0 or skip gram 1\n",
    "\n",
    "#model = gensim.models.Word2Vec(df.lemmatized, min_count=1, workers=3, window =3, sg = 1)"
   ]
  },
  {
   "cell_type": "code",
   "execution_count": null,
   "id": "89b44bfa",
   "metadata": {},
   "outputs": [],
   "source": [
    "#model(\"trump\")"
   ]
  },
  {
   "cell_type": "markdown",
   "id": "b2696bfa",
   "metadata": {},
   "source": [
    "## Modeling\n",
    "\n",
    "+ Naiv bayes\n",
    "+ Support Vector Machines\n",
    "+ random foresst\n",
    "+ passiv agressiv\n"
   ]
  },
  {
   "cell_type": "code",
   "execution_count": 23,
   "id": "bb939db7",
   "metadata": {},
   "outputs": [],
   "source": [
    "#split the data \n",
    "X_train, X_test, y_train,y_test= train_test_split(X, y, test_size=0.32, random_state=42 )"
   ]
  },
  {
   "cell_type": "code",
   "execution_count": 24,
   "id": "0aa8a0be",
   "metadata": {},
   "outputs": [
    {
     "data": {
      "text/plain": [
       "(30381, 104619)"
      ]
     },
     "execution_count": 24,
     "metadata": {},
     "output_type": "execute_result"
    }
   ],
   "source": [
    "X_train.shape"
   ]
  },
  {
   "cell_type": "code",
   "execution_count": 25,
   "id": "847fcd1f",
   "metadata": {},
   "outputs": [
    {
     "data": {
      "text/plain": [
       "(30381,)"
      ]
     },
     "execution_count": 25,
     "metadata": {},
     "output_type": "execute_result"
    }
   ],
   "source": [
    "y_train.shape"
   ]
  },
  {
   "cell_type": "markdown",
   "id": "771f6b60",
   "metadata": {},
   "source": [
    "## Naiv Bayes: classification technique: large datasets\n",
    "\n",
    "#Auswahl der Wörter ausschließlich davon abhängt,\n",
    "#ob es sich bei der jeweiligen Botschaft um Fake oder Real handelt ->kein zusammenhang zwischen den Wörtern, -> naive Methode\n",
    "\n",
    "\n",
    "##Bernoulli Naive Bayes :\n",
    "\n",
    "#Gaussian Naive Bayes , cointinous features: height etc\n",
    "\n",
    "\n",
    "#Multinomial Naive Bayes :count  how often word occurs in the document, number of times -> Its is used when we have discrete data (e.g. movie ratings ranging 1 and 5 as each rating will have certain frequency to represent).\n",
    "#In text learning we have the count of each word to predict the class or label\n"
   ]
  },
  {
   "cell_type": "code",
   "execution_count": null,
   "id": "7a424c77",
   "metadata": {},
   "outputs": [],
   "source": [
    "\n",
    "\n",
    "clf_mult = MultinomialNB()\n",
    "classifier = clf_mult.fit(X_train,y_train) #train the data \n",
    "predict_naiv= classifier.predict(X_test) #i want to see the performance on test\n",
    "\n",
    "\n",
    "acc=(accuracy_score(y_test,predict_naiv))\n",
    "#acc_test=(accuracy_score(y_train,predict_naiv))\n",
    "print('Accuracy for the test model is ',acc*100)\n",
    "#print('Accuracy for the train model is', acc_test*100)\n",
    "\n",
    "cross_naiv = cross_val_score(clf_mult, X_train, y_train, cv=10)\n",
    "\n",
    "\n",
    "print( \" Cross validation: %0.3f ( +/- %0.2f)\" % (cross_naiv.mean(), cross_naiv.std() * 2) )\n",
    "\n",
    " "
   ]
  },
  {
   "cell_type": "code",
   "execution_count": null,
   "id": "47df73fb",
   "metadata": {},
   "outputs": [],
   "source": [
    "#train model\n",
    "\n",
    "predict_naiv_train= classifier.predict(X_train)\n",
    "acc_train=(accuracy_score(y_train,predict_naiv_train))\n",
    "print('Accuracy for the train model is', acc_train*100)"
   ]
  },
  {
   "cell_type": "code",
   "execution_count": null,
   "id": "f878f901",
   "metadata": {},
   "outputs": [],
   "source": [
    "print(classification_report(y_test, predict_naiv, target_names = ['Fake','Not Fake']))\n",
    "\n",
    "#The F1 score can be interpreted as a weighted average of the precision and recall,\n",
    "\n",
    "#precision: proportion of positive indentifficationes -> if no false positive than it would be 1\n",
    "#recall: proortion of  positives correctly classified: no fals negative would be 1\n",
    "#f1: combination precision and recall\n",
    "#support :number of samples, 7019 von labeled fake \n",
    "#accuracy of the model\n",
    "#macro avege: avg precision, recall and f1 score -> more for imblanced data but here_> class balanced because its around 50%\n",
    "#weightet avg: quite similar because its balanced ->  otherwise would be here 50 % sowas\n",
    "\n",
    "\n"
   ]
  },
  {
   "cell_type": "code",
   "execution_count": null,
   "id": "2fbc2a81",
   "metadata": {},
   "outputs": [],
   "source": [
    "from sklearn.metrics import confusion_matrix\n",
    "\n",
    "plot_confusion_matrix(clf_mult,X_test,y_test, values_format= '.0%', normalize='true'); plt.title(\"normalize='pred'\")\n",
    "plt.show()"
   ]
  },
  {
   "cell_type": "markdown",
   "id": "15f37b48",
   "metadata": {},
   "source": [
    "## random forest"
   ]
  },
  {
   "cell_type": "code",
   "execution_count": null,
   "id": "187e0cc8",
   "metadata": {},
   "outputs": [],
   "source": [
    "\n",
    "#dont need transformation\n",
    "#cross validiation always apply -> random forrest it checkes outlier or not\n",
    "\n",
    "#max_depth none-> if its too high it overfit\n",
    "\n",
    "clf_random = RandomForestClassifier(random_state = 0) #Create a Gaussian Classifier\n",
    "clf_random.fit(X_train, y_train) #Train the model using the training sets y_pred=clf.predict(X_test)\n",
    "predi_random=clf_random.predict(X_test)\n",
    "\n",
    "\n",
    "acc=(accuracy_score(y_test,predi_random))\n",
    "print('Accuracy for the model is ',acc*100)"
   ]
  },
  {
   "cell_type": "code",
   "execution_count": null,
   "id": "c85c4a9a",
   "metadata": {},
   "outputs": [],
   "source": [
    "\n",
    "score_random = cross_val_score(clf, X_train, y_train, cv=5)\n",
    "print(score_random)\n",
    "\n",
    "print( \" Accuracy: %0.3f ( +/- %0.2f)\" % (cross_val_scores.mean(), cross_val_scores.std() * 2) )\n",
    "\n"
   ]
  },
  {
   "cell_type": "code",
   "execution_count": null,
   "id": "5dc796b4",
   "metadata": {},
   "outputs": [],
   "source": [
    "predict_random_train= classifier.predict(X_train)\n",
    "accrandom_train=(accuracy_score(y_train,predict_random_train))\n",
    "print('Accuracy for the train model is', accrandom_train*100)"
   ]
  },
  {
   "cell_type": "code",
   "execution_count": null,
   "id": "88467579",
   "metadata": {},
   "outputs": [],
   "source": [
    "print(classification_report(y_test, predi_random, target_names = ['Fake','Not Fake']))"
   ]
  },
  {
   "cell_type": "code",
   "execution_count": null,
   "id": "67627066",
   "metadata": {},
   "outputs": [],
   "source": [
    "plot_confusion_matrix(clf,X_test,y_test)\n",
    "plt.show()"
   ]
  },
  {
   "cell_type": "code",
   "execution_count": null,
   "id": "d60448c1",
   "metadata": {},
   "outputs": [],
   "source": [
    "save the model to disk\n",
    "filename = 'random.sav'\n",
    "pickle.dump(model, open(filename, 'wb'))\n",
    "\n",
    "# some time later...\n",
    "\n",
    "# load the model from disk\n",
    "#loaded_model = pickle.load(open(filename, 'rb'))\n",
    "#result = loaded_model.score(X_test, Y_test)\n",
    "#print(result)"
   ]
  },
  {
   "cell_type": "markdown",
   "id": "a2f7ac8e",
   "metadata": {},
   "source": [
    "## Linear Support Vector Classification (SVC)"
   ]
  },
  {
   "cell_type": "code",
   "execution_count": null,
   "id": "fc9b2202",
   "metadata": {},
   "outputs": [],
   "source": [
    "#Xscl= df[\"lemmatized_joined\"] # checked if there is a big difference between token and lemm \n",
    "#yscl= df[\"status\"]"
   ]
  },
  {
   "cell_type": "code",
   "execution_count": null,
   "id": "c1fafbdb",
   "metadata": {},
   "outputs": [],
   "source": [
    "#Xscl.shape"
   ]
  },
  {
   "cell_type": "code",
   "execution_count": null,
   "id": "0b2a258a",
   "metadata": {},
   "outputs": [],
   "source": [
    "#yscl.shape"
   ]
  },
  {
   "cell_type": "code",
   "execution_count": null,
   "id": "9a6e98ce",
   "metadata": {},
   "outputs": [],
   "source": [
    "#Xscl_train, Xscl_test, yscl_train,yscl_test= train_test_split(Xscl, yscl, test_size=0.30, random_state=42 )"
   ]
  },
  {
   "cell_type": "code",
   "execution_count": 26,
   "id": "2772a81f",
   "metadata": {},
   "outputs": [],
   "source": [
    "import sklearn as svm\n",
    "from sklearn.svm import LinearSVC\n",
    "from sklearn.svm import SVC"
   ]
  },
  {
   "cell_type": "code",
   "execution_count": null,
   "id": "bcb64dd2",
   "metadata": {},
   "outputs": [],
   "source": [
    "#solve convext optimization problem -> so every obersvation is on one side\n",
    "\n",
    "#-> goal optimale hyperplane -> die obeservations durchteilt\n",
    "\n",
    "# wenn nicht liniear seperiert werden könne: kernal trick-> from 2D to 3D -> dann kann seperiert werden\n",
    "\n",
    "#support vector beachten -> maximierung der abstände -> margin -> hinge loss function \n",
    "\n",
    "#loss function is null wenn "
   ]
  },
  {
   "cell_type": "code",
   "execution_count": null,
   "id": "2f2de5f7",
   "metadata": {},
   "outputs": [],
   "source": [
    "#from sklearn.preprocessing import StandardScaler\n",
    "\n",
    "#scaler = StandardScaler(with_mean=False)#X_trainIf True, center the data before scaling. This does not work (and will raise an exception) when attempted on sparse matrices, because centering them entails building a dense matrix which in common use cases is likely to be too large to fit in memory.\n",
    "#scaler.fit(Xscl_train)\n",
    "#X_train_scaled = scaler.transform(Xscl_train)\n",
    "#X_test_scaled = scaler.transform(Xscl_test)\n",
    "\n"
   ]
  },
  {
   "cell_type": "code",
   "execution_count": null,
   "id": "510e728c",
   "metadata": {},
   "outputs": [],
   "source": [
    "#clfscl_svm = SVC(kernel='linear') #kernel type , c# value\n",
    "\n",
    "#clfscl_svm .fit(Xscl_train, yscl_train) #fit on training to predict"
   ]
  },
  {
   "cell_type": "code",
   "execution_count": null,
   "id": "9a9ac750",
   "metadata": {},
   "outputs": [],
   "source": [
    "#predictscl_svc=clfscl_svm.predict(Xscl_train)\n",
    "\n",
    "#acc=(accuracy_score(yscl_test,predictscl_svc))\n",
    "#print('Accuracy for the model is ',acc*100)"
   ]
  },
  {
   "cell_type": "markdown",
   "id": "c5774d92",
   "metadata": {},
   "source": [
    "### Max iter 1000 without scaling "
   ]
  },
  {
   "cell_type": "code",
   "execution_count": 27,
   "id": "feefe5ca",
   "metadata": {},
   "outputs": [
    {
     "name": "stderr",
     "output_type": "stream",
     "text": [
      "/opt/anaconda3/envs/DA_env/lib/python3.8/site-packages/sklearn/svm/_base.py:255: ConvergenceWarning: Solver terminated early (max_iter=1000).  Consider pre-processing your data with StandardScaler or MinMaxScaler.\n",
      "  warnings.warn('Solver terminated early (max_iter=%i).'\n"
     ]
    },
    {
     "data": {
      "text/plain": [
       "SVC(kernel='linear', max_iter=1000)"
      ]
     },
     "execution_count": 27,
     "metadata": {},
     "output_type": "execute_result"
    }
   ],
   "source": [
    "clf_svm = SVC(kernel='linear' , max_iter=1000) #kernel type , c# value check with gridsearch\n",
    "\n",
    "clf_svm.fit(X_train, y_train)\n"
   ]
  },
  {
   "cell_type": "code",
   "execution_count": 28,
   "id": "7ddd9014",
   "metadata": {},
   "outputs": [
    {
     "name": "stdout",
     "output_type": "stream",
     "text": [
      "Accuracy for the model is  99.17470974961533\n"
     ]
    }
   ],
   "source": [
    "predict_svc=clf_svm.predict(X_test)\n",
    "\n",
    "acc=(accuracy_score(y_test,predict_svc))\n",
    "print('Accuracy for the model is ',acc*100)"
   ]
  },
  {
   "cell_type": "code",
   "execution_count": 29,
   "id": "c497aa41",
   "metadata": {},
   "outputs": [
    {
     "name": "stderr",
     "output_type": "stream",
     "text": [
      "/opt/anaconda3/envs/DA_env/lib/python3.8/site-packages/sklearn/svm/_base.py:255: ConvergenceWarning: Solver terminated early (max_iter=1000).  Consider pre-processing your data with StandardScaler or MinMaxScaler.\n",
      "  warnings.warn('Solver terminated early (max_iter=%i).'\n",
      "/opt/anaconda3/envs/DA_env/lib/python3.8/site-packages/sklearn/svm/_base.py:255: ConvergenceWarning: Solver terminated early (max_iter=1000).  Consider pre-processing your data with StandardScaler or MinMaxScaler.\n",
      "  warnings.warn('Solver terminated early (max_iter=%i).'\n",
      "/opt/anaconda3/envs/DA_env/lib/python3.8/site-packages/sklearn/svm/_base.py:255: ConvergenceWarning: Solver terminated early (max_iter=1000).  Consider pre-processing your data with StandardScaler or MinMaxScaler.\n",
      "  warnings.warn('Solver terminated early (max_iter=%i).'\n",
      "/opt/anaconda3/envs/DA_env/lib/python3.8/site-packages/sklearn/svm/_base.py:255: ConvergenceWarning: Solver terminated early (max_iter=1000).  Consider pre-processing your data with StandardScaler or MinMaxScaler.\n",
      "  warnings.warn('Solver terminated early (max_iter=%i).'\n"
     ]
    },
    {
     "name": "stdout",
     "output_type": "stream",
     "text": [
      "\n",
      " Cross validation: 0.991 ( +/- 0.00175)\n"
     ]
    }
   ],
   "source": [
    "\n",
    "\n",
    "\n",
    "cross_val_scores = cross_val_score(clf_svm, X_train, y_train, cv=4)\n",
    "\n",
    "print()\n",
    "\n",
    "print( \" Cross validation: %0.3f ( +/- %0.5f)\" % (cross_val_scores.mean(), cross_val_scores.std() * 2) )\n"
   ]
  },
  {
   "cell_type": "code",
   "execution_count": 30,
   "id": "fe2a1103",
   "metadata": {},
   "outputs": [
    {
     "name": "stdout",
     "output_type": "stream",
     "text": [
      "Accuracy for the train model is 99.82225733188506\n"
     ]
    }
   ],
   "source": [
    "predict_svc_train= clf_svm.predict(X_train)\n",
    "accsvc_train=(accuracy_score(y_train,predict_svc_train))\n",
    "print('Accuracy for the train model is', accsvc_train*100)"
   ]
  },
  {
   "cell_type": "code",
   "execution_count": 31,
   "id": "626afaa9",
   "metadata": {},
   "outputs": [
    {
     "name": "stdout",
     "output_type": "stream",
     "text": [
      "              precision    recall  f1-score   support\n",
      "\n",
      "        Fake       0.99      0.99      0.99      7485\n",
      "    Not Fake       0.99      0.99      0.99      6813\n",
      "\n",
      "    accuracy                           0.99     14298\n",
      "   macro avg       0.99      0.99      0.99     14298\n",
      "weighted avg       0.99      0.99      0.99     14298\n",
      "\n"
     ]
    }
   ],
   "source": [
    "print(classification_report(y_test, predict_svc, target_names = ['Fake','Not Fake']))"
   ]
  },
  {
   "cell_type": "code",
   "execution_count": 32,
   "id": "14e3fb26",
   "metadata": {
    "scrolled": true
   },
   "outputs": [
    {
     "data": {
      "image/png": "[encoded data removed]",
      "text/plain": [
       "<Figure size 640x480 with 2 Axes>"
      ]
     },
     "metadata": {},
     "output_type": "display_data"
    }
   ],
   "source": [
    "plot_confusion_matrix(clf_svm, X_test, y_test, cmap=plt.cm.gray)\n",
    "plt.show()"
   ]
  },
  {
   "cell_type": "code",
   "execution_count": 33,
   "id": "2d0bfa06",
   "metadata": {},
   "outputs": [
    {
     "data": {
      "image/png": "[encoded data removed]",
      "text/plain": [
       "<Figure size 640x480 with 2 Axes>"
      ]
     },
     "metadata": {},
     "output_type": "display_data"
    }
   ],
   "source": [
    "\n",
    "plot_confusion_matrix(clf_svm, X_test, y_test, values_format= '.0%', normalize='true'); plt.title(\"normalize='pred'\");\n",
    "plt.show()"
   ]
  },
  {
   "cell_type": "code",
   "execution_count": 45,
   "id": "16a92b86",
   "metadata": {},
   "outputs": [],
   "source": [
    "model_svc = \"Pickle_svc_Model.pkl\"  #name\n",
    "\n",
    "with open(model_svc, 'wb') as file:  \n",
    "    pickle.dump(clf_svm, file)"
   ]
  },
  {
   "cell_type": "code",
   "execution_count": 46,
   "id": "296ccf40",
   "metadata": {},
   "outputs": [],
   "source": [
    "with open(model_svc, 'rb') as file: # test if i can load\n",
    "    model_svc = pickle.load(file)"
   ]
  },
  {
   "cell_type": "code",
   "execution_count": null,
   "id": "551712f1",
   "metadata": {},
   "outputs": [],
   "source": [
    "pkl_filename.predict()\n",
    "\n",
    "#vectorizin"
   ]
  },
  {
   "cell_type": "code",
   "execution_count": null,
   "id": "37862855",
   "metadata": {},
   "outputs": [],
   "source": [
    "# Get support vector indices\n",
    "support_vector_indices = clf_svm.support_\n",
    "print(support_vector_indices)"
   ]
  },
  {
   "cell_type": "code",
   "execution_count": null,
   "id": "44e3055e",
   "metadata": {},
   "outputs": [],
   "source": [
    "type(X_test)"
   ]
  },
  {
   "cell_type": "code",
   "execution_count": null,
   "id": "c87a432a",
   "metadata": {},
   "outputs": [],
   "source": [
    "# Get support vectors themselves\n",
    "support_vectors = clf_svm.support_vectors_\n",
    "\n",
    "# Visualize support vectors\n",
    "plt.scatter(X_train.iloc[:,0], X_train.iloc[:,1])\n",
    "plt.scatter(support_vectors[:,0], support_vectors[:,1], color='red')\n",
    "plt.title('Linearly separable data with support vectors')\n",
    "plt.xlabel('X1')\n",
    "plt.ylabel('X2')\n",
    "plt.show()"
   ]
  },
  {
   "cell_type": "markdown",
   "id": "afec3b97",
   "metadata": {},
   "source": [
    "## Passiv agressiv classifier"
   ]
  },
  {
   "cell_type": "code",
   "execution_count": null,
   "id": "035da0e9",
   "metadata": {},
   "outputs": [],
   "source": [
    "Xtok_train, Xtok_test, y_train,y_test= train_test_split(Xtok, y, test_size=0.30, random_state=42 )"
   ]
  },
  {
   "cell_type": "code",
   "execution_count": null,
   "id": "9ad73576",
   "metadata": {},
   "outputs": [],
   "source": [
    "clf_pac = PassiveAggressiveClassifier()\n",
    "\n",
    "clf_pac.fit(Xtok_train,y_train)\n",
    "\n",
    "predict_pac=clf_pac.predict(Xtok_test)\n",
    "\n",
    "acc=(accuracy_score(y_test,predict_pac))\n",
    "print('Accuracy for the model is ',acc*100)"
   ]
  },
  {
   "cell_type": "code",
   "execution_count": null,
   "id": "a1ebc182",
   "metadata": {},
   "outputs": [],
   "source": [
    "predict_pac_train= clf_pac.predict(Xtok_train)\n",
    "accsvc_train=(accuracy_score(y_train,predict_pac_train))\n",
    "print('Accuracy for the train model is', accsvc_train*100)"
   ]
  },
  {
   "cell_type": "code",
   "execution_count": null,
   "id": "3bf61712",
   "metadata": {},
   "outputs": [],
   "source": [
    "from sklearn.linear_model import PassiveAggressiveClassifier\n",
    "from sklearn.datasets import make_classification\n"
   ]
  },
  {
   "cell_type": "code",
   "execution_count": null,
   "id": "2bf7cc2a",
   "metadata": {},
   "outputs": [],
   "source": [
    "clf_pac = PassiveAggressiveClassifier(n_jobs=50)\n",
    "\n",
    "clf_pac.fit(X_train,y_train)\n",
    "\n",
    "predict_pac=clf_pac.predict(X_test)\n",
    "\n",
    "acc=(accuracy_score(y_test,predict_pac))\n",
    "print('Accuracy for the model is ',acc*100)"
   ]
  },
  {
   "cell_type": "code",
   "execution_count": null,
   "id": "00c304b9",
   "metadata": {},
   "outputs": [],
   "source": [
    "predict_pac_train= clf_pac.predict(X_train)\n",
    "accsvc_train=(accuracy_score(y_train,predict_pac_train))\n",
    "print('Accuracy for the train model is', accsvc_train*100)"
   ]
  },
  {
   "cell_type": "code",
   "execution_count": null,
   "id": "dbdc91e9",
   "metadata": {},
   "outputs": [],
   "source": [
    "\n",
    "cross_pac = cross_val_score(clf_pac, X_train, y_train, cv=10)\n",
    "\n",
    "\n",
    "print( \" Cross validation: %0.6f ( +/- %0.2f)\" % (cross_pac.mean(), cross_pac.std() * 2) )"
   ]
  },
  {
   "cell_type": "code",
   "execution_count": null,
   "id": "10b0c71b",
   "metadata": {},
   "outputs": [],
   "source": [
    "print(classification_report(y_test, predict_pac, target_names = ['Fake','Not Fake']))"
   ]
  },
  {
   "cell_type": "markdown",
   "id": "2134dd16",
   "metadata": {},
   "source": [
    "## Model tuning with Gridsearch"
   ]
  },
  {
   "cell_type": "code",
   "execution_count": null,
   "id": "8887654e",
   "metadata": {},
   "outputs": [],
   "source": [
    "#from sklearn.model_selection import GridSearchCV"
   ]
  },
  {
   "cell_type": "code",
   "execution_count": null,
   "id": "696a16ef",
   "metadata": {},
   "outputs": [],
   "source": [
    "\n",
    "\n",
    "#parameters= {\"C\" :( 1, 4, 5, 23) }\n",
    "                        \n",
    "#svc= SVC()\n",
    "#clf = GridSearchCV(svc, parameters, cv=5)\n",
    "#clf.fit(X_train, y_train)\n",
    "\n",
    "\n",
    "#parameters= {\"n_estimators\" :( 50, 100, 150, 200) }\n",
    "´\n",
    "\n",
    "#clf = RandomForestClassifier(parameters, random_state = 0) #Create a Gaussian Classifier\n",
    "#clf.fit(X_train, y_train\n",
    "\n"
   ]
  },
  {
   "cell_type": "code",
   "execution_count": 34,
   "id": "704892b4",
   "metadata": {},
   "outputs": [],
   "source": [
    "vectorization = TfidfVectorizer()"
   ]
  },
  {
   "cell_type": "code",
   "execution_count": 86,
   "id": "800fbcf2",
   "metadata": {},
   "outputs": [],
   "source": [
    "import re\n",
    "\n",
    "def clean_text(x):\n",
    "    x = str(x).lower().replace(\"_\",\" \")\n",
    "    x = re.sub(r'\\W+',' ',x) # Replace everything non-alpahnumeric by ' '\n",
    "    x = re.sub(r'\\s+',' ',x) # Replace one or more whitespaces by  ' '\n",
    "    x = re.sub(r'\\d+',\"\",x) # Replace one or more digits by  ' '\n",
    "    \n",
    "    return x"
   ]
  },
  {
   "cell_type": "code",
   "execution_count": 109,
   "id": "da9dfe97",
   "metadata": {},
   "outputs": [],
   "source": [
    "def output_label(n):\n",
    "    if n==0:\n",
    "        return(\"Fake News\")\n",
    "    elif n==1:\n",
    "        return(\"Real news\")\n",
    "    \n",
    "    \n",
    "def livedemo(news):\n",
    "    \n",
    "    testing_news = {\"text\": [news]}#my input\n",
    "    new_def_test=pd.DataFrame(testing_news) \n",
    "    new_def_test[\"text\"]= new_def_test[\"text\"].apply(clean_text)#cleaned data \n",
    "    new_x_test= new_def_test[\"text\"]\n",
    "    new_xv_test= vectorizer.transform(new_x_test) #vectorizing\n",
    "    predict = model_svc.predict(new_xv_test) #m\n",
    "    \n",
    "    \n",
    "    \n",
    "    \n",
    "    return print(output_label(predict))"
   ]
  },
  {
   "cell_type": "markdown",
   "id": "28c517a8",
   "metadata": {},
   "source": [
    "## Live Demo "
   ]
  },
  {
   "cell_type": "code",
   "execution_count": 117,
   "id": "30e21631",
   "metadata": {},
   "outputs": [
    {
     "name": "stdout",
     "output_type": "stream",
     "text": [
      "All eight winners of the 2021 Nobel Prizes in medicine, chemistry, physics and literature have been men, re-igniting a recurring debate about diversity in the highly coveted awards, particularly those in science.  Ardem Patapoutian and David Julius received the Nobel for medicine on Monday. Giorgio Parisi, Syukuro Manabe and Klaus Hasselmann won the physics gong for their work deciphering chaotic climate, while Benjamin List and David MacMillan received the chemistry accolade for developing a tool for molecule building.  Tanzanian novelist Abdulrazak Gurnah, 72, on Wednesday became only the second writer of color in sub-Suharan Africa ever to win a Nobel Prize for Literature. The last Black recipient of the prize was Toni Morrison in 1993.  \"Abdulrazak Gurnah meets at least one of the criterion of a writer from a non-traditional cultural circle - a non-European with a colonial background, but he's no woman,\" said Anne-Marie Morhed, head of the Swedish Association of Female Academics.\n",
      "Real news\n"
     ]
    }
   ],
   "source": [
    "news = str(input())\n",
    "livedemo(news)"
   ]
  },
  {
   "cell_type": "code",
   "execution_count": null,
   "id": "21da69ed",
   "metadata": {},
   "outputs": [],
   "source": []
  }
 ],
 "metadata": {
  "kernelspec": {
   "display_name": "Python 3",
   "language": "python",
   "name": "python3"
  },
  "language_info": {
   "codemirror_mode": {
    "name": "ipython",
    "version": 3
   },
   "file_extension": ".py",
   "mimetype": "text/x-python",
   "name": "python",
   "nbconvert_exporter": "python",
   "pygments_lexer": "ipython3",
   "version": "3.8.8"
  }
 },
 "nbformat": 4,
 "nbformat_minor": 5
}
