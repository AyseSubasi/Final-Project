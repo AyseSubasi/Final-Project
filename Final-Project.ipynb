{
 "cells": [
  {
   "cell_type": "markdown",
   "id": "46d00230",
   "metadata": {},
   "source": [
    "# Fake news detection - Final Project \n",
    "by Ayse Subasi - Ironhack Berlin"
   ]
  },
  {
   "cell_type": "markdown",
   "id": "700a7cfa",
   "metadata": {},
   "source": [
    "## Overview\n",
    "\n",
    "In this project I'm using two datasets from Kaggle(Real/Fake Data) to get better insights into news. My Goal is to predict wheater a givien news is fake news or real.\n",
    "\n",
    "Dataset:\n",
    "\n",
    "[Kaggle - fake and real news dataset](\"https://www.kaggle.com/clmentbisaillon/fake-and-real-news-dataset\")\n"
   ]
  },
  {
   "cell_type": "markdown",
   "id": "d09135e8",
   "metadata": {},
   "source": [
    "## Problems and Goals\n",
    "\n",
    "+ Definitin of the Problem \n",
    "+ Cleaning the data \n",
    "+ Visualising insights\n",
    "+ Modeling\n",
    "+ Choosing a machine learning model which predicts fake news\n",
    "+ Conclusion\n",
    "+ Storytelling"
   ]
  },
  {
   "cell_type": "code",
   "execution_count": null,
   "id": "86a467c9",
   "metadata": {},
   "outputs": [],
   "source": []
  }
 ],
 "metadata": {
  "kernelspec": {
   "display_name": "Python 3",
   "language": "python",
   "name": "python3"
  },
  "language_info": {
   "codemirror_mode": {
    "name": "ipython",
    "version": 3
   },
   "file_extension": ".py",
   "mimetype": "text/x-python",
   "name": "python",
   "nbconvert_exporter": "python",
   "pygments_lexer": "ipython3",
   "version": "3.8.8"
  }
 },
 "nbformat": 4,
 "nbformat_minor": 5
}
